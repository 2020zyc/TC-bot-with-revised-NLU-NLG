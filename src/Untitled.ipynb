{
 "cells": [
  {
   "cell_type": "code",
   "execution_count": 4,
   "metadata": {
    "collapsed": false
   },
   "outputs": [
    {
     "name": "stderr",
     "output_type": "stream",
     "text": [
      "usage: __main__.py [-h] [--dict_path DICT_PATH]\n",
      "                   [--movie_kb_path MOVIE_KB_PATH] [--act_set ACT_SET]\n",
      "                   [--slot_set SLOT_SET] [--goal_file_path GOAL_FILE_PATH]\n",
      "                   [--diaact_nl_pairs DIAACT_NL_PAIRS] [--max_turn MAX_TURN]\n",
      "                   [--episodes EPISODES] [--slot_err_prob SLOT_ERR_PROB]\n",
      "                   [--slot_err_mode SLOT_ERR_MODE]\n",
      "                   [--intent_err_prob INTENT_ERR_PROB] [--agt AGT] [--usr USR]\n",
      "                   [--epsilon EPSILON] [--nlg_model_path NLG_MODEL_PATH]\n",
      "                   [--nlu_model_path NLU_MODEL_PATH] [--act_level ACT_LEVEL]\n",
      "                   [--run_mode RUN_MODE] [--auto_suggest AUTO_SUGGEST]\n",
      "                   [--cmd_input_mode CMD_INPUT_MODE]\n",
      "                   [--experience_replay_pool_size EXPERIENCE_REPLAY_POOL_SIZE]\n",
      "                   [--dqn_hidden_size DQN_HIDDEN_SIZE]\n",
      "                   [--batch_size BATCH_SIZE] [--gamma GAMMA]\n",
      "                   [--predict_mode PREDICT_MODE]\n",
      "                   [--simulation_epoch_size SIMULATION_EPOCH_SIZE]\n",
      "                   [--warm_start WARM_START]\n",
      "                   [--warm_start_epochs WARM_START_EPOCHS]\n",
      "                   [--trained_model_path TRAINED_MODEL_PATH]\n",
      "                   [-o WRITE_MODEL_DIR] [--save_check_point SAVE_CHECK_POINT]\n",
      "                   [--success_rate_threshold SUCCESS_RATE_THRESHOLD]\n",
      "                   [--split_fold SPLIT_FOLD] [--learning_phase LEARNING_PHASE]\n",
      "__main__.py: error: unrecognized arguments: -f C:\\Users\\jinhak\\AppData\\Roaming\\jupyter\\runtime\\kernel-8eea16f0-b112-4548-bff1-b7976d1410d5.json\n"
     ]
    },
    {
     "ename": "SystemExit",
     "evalue": "2",
     "output_type": "error",
     "traceback": [
      "An exception has occurred, use %tb to see the full traceback.\n",
      "\u001b[0;31mSystemExit\u001b[0m\u001b[0;31m:\u001b[0m 2\n"
     ]
    },
    {
     "name": "stderr",
     "output_type": "stream",
     "text": [
      "C:\\Users\\jinhak\\Anaconda3\\lib\\site-packages\\IPython\\core\\interactiveshell.py:2889: UserWarning: To exit: use 'exit', 'quit', or Ctrl-D.\n",
      "  warn(\"To exit: use 'exit', 'quit', or Ctrl-D.\", stacklevel=1)\n"
     ]
    }
   ],
   "source": []
  },
  {
   "cell_type": "code",
   "execution_count": null,
   "metadata": {
    "collapsed": true
   },
   "outputs": [],
   "source": []
  },
  {
   "cell_type": "code",
   "execution_count": null,
   "metadata": {
    "collapsed": true
   },
   "outputs": [],
   "source": []
  }
 ],
 "metadata": {
  "anaconda-cloud": {},
  "kernelspec": {
   "display_name": "Python [conda root]",
   "language": "python",
   "name": "conda-root-py"
  },
  "language_info": {
   "codemirror_mode": {
    "name": "ipython",
    "version": 3
   },
   "file_extension": ".py",
   "mimetype": "text/x-python",
   "name": "python",
   "nbconvert_exporter": "python",
   "pygments_lexer": "ipython3",
   "version": "3.5.2"
  }
 },
 "nbformat": 4,
 "nbformat_minor": 1
}
